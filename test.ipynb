{
 "cells": [
  {
   "cell_type": "code",
   "execution_count": 1,
   "metadata": {},
   "outputs": [
    {
     "name": "stdout",
     "output_type": "stream",
     "text": [
      "pygame 2.6.1 (SDL 2.28.4, Python 3.12.9)\n",
      "Hello from the pygame community. https://www.pygame.org/contribute.html\n"
     ]
    }
   ],
   "source": [
    "import numpy as np\n",
    "import pygame"
   ]
  },
  {
   "cell_type": "code",
   "execution_count": 2,
   "metadata": {},
   "outputs": [],
   "source": [
    "WHITE = (255, 255, 255)\n",
    "BLACK = (0, 0, 0)\n",
    "RED = (255, 0, 0)\n",
    "GREEN = (0, 128, 0)\n",
    "BLUE = (0, 0, 255)\n",
    "YELLOW = (255, 255, 0)\n",
    "ORANGE = (255, 165, 0)\n",
    "GREY = (128, 128, 128)\n",
    "\n",
    "WIDTH = 800\n",
    "HEIGHT = 800\n",
    "UNIT = 80\n"
   ]
  },
  {
   "cell_type": "code",
   "execution_count": 3,
   "metadata": {},
   "outputs": [],
   "source": [
    "def center_to_topleft(v):\n",
    "    v = np.array(v)\n",
    "    return v * UNIT * np.array((1, -1)) + np.array((WIDTH/2, HEIGHT/2))"
   ]
  },
  {
   "cell_type": "code",
   "execution_count": 4,
   "metadata": {},
   "outputs": [],
   "source": [
    "def transform_vec(v, m):\n",
    "    v = np.array(v)\n",
    "    if len(v.shape) == 1:\n",
    "        return np.matmul(m, v)\n",
    "    else:\n",
    "        return np.matmul(m, v.T).T"
   ]
  },
  {
   "cell_type": "code",
   "execution_count": 5,
   "metadata": {},
   "outputs": [],
   "source": [
    "def smooth_transformation(m, steps=100, identity_m = np.array(((1, 0), (0, 1)))):\n",
    "    m = np.array(m)\n",
    "    transformations = np.linspace(identity_m, m, steps)\n",
    "    return transformations"
   ]
  },
  {
   "cell_type": "code",
   "execution_count": 6,
   "metadata": {},
   "outputs": [],
   "source": [
    "def move_vec(s, e, steps=100, x_than_y=False):\n",
    "    s = np.array(s)\n",
    "    e = np.array(e)\n",
    "    movement = np.linspace(s, e, steps)\n",
    "    if x_than_y:\n",
    "        movement = np.concat((np.linspace(s, np.array((e[0], s[1])), int(steps/2)), \n",
    "                              np.linspace(np.array((e[0], s[1])), e, int(steps/2))))\n",
    "    return movement"
   ]
  },
  {
   "cell_type": "code",
   "execution_count": 7,
   "metadata": {},
   "outputs": [],
   "source": [
    "def draw_vec(screen, v, color=BLACK):\n",
    "    pygame.draw.line(screen, color, center_to_topleft((0, 0)), center_to_topleft(v), 5)"
   ]
  },
  {
   "cell_type": "code",
   "execution_count": null,
   "metadata": {},
   "outputs": [],
   "source": []
  },
  {
   "cell_type": "code",
   "execution_count": 8,
   "metadata": {},
   "outputs": [],
   "source": [
    "class Grid():\n",
    "    def __init__(self, low=-10, high=10, step=1):\n",
    "        self.generate(low, high, step)\n",
    "    \n",
    "    def generate(self, low, high, step):\n",
    "        n = abs(int((low - high) / step)) + 1\n",
    "        points = np.array(np.meshgrid(np.linspace(low, high, n), np.linspace(low, high, n)))\n",
    "        x_axis = points.T[n//2]\n",
    "        y_axis = points[:, n//2].T\n",
    "        self.x_axis = x_axis\n",
    "        self.y_axis = y_axis\n",
    "        self.points = points\n",
    "        self.points_transformed = points\n",
    "        self.x_axis_transformed = x_axis\n",
    "        self.y_axis_transformed = y_axis\n",
    "    \n",
    "    def transform(self, m):\n",
    "        self.points_transformed = transform_vec(self.points.T.reshape(-1, 2), m).T.reshape(self.points.shape)\n",
    "        self.x_axis_transformed = transform_vec(self.x_axis, m)\n",
    "        self.y_axis_transformed = transform_vec(self.y_axis, m)\n",
    "    \n",
    "    def smooth_transformation(self, m, steps=100, identity_m = np.array(((1, 0), (0, 1)))):\n",
    "        transformations = np.linspace(identity_m, m, steps)\n",
    "        for t in transformations:\n",
    "            self.transform(t)\n",
    "            yield True\n",
    "\n",
    "        \n",
    "    \n",
    "    def draw(self, screen, axis_color=BLUE, grid_color=WHITE, transformed = False, axis_lw=4, grid_lw=1):\n",
    "        points = self.points_transformed.copy() if transformed else self.points.copy()\n",
    "        x_axis = self.x_axis_transformed.copy() if transformed else self.x_axis.copy()\n",
    "        y_axis = self.y_axis_transformed.copy() if transformed else self.y_axis.copy()\n",
    "        for i in range(points.shape[1]):\n",
    "            row = points.T[i]\n",
    "            col = points[:, i].T\n",
    "            if np.all(row == self.x_axis) or np.all(col == self.y_axis):\n",
    "                continue\n",
    "            pygame.draw.lines(screen, grid_color, False, center_to_topleft(row), grid_lw)\n",
    "            pygame.draw.lines(screen, grid_color, False, center_to_topleft(col), grid_lw)\n",
    "\n",
    "        # plot the origin axes\n",
    "        pygame.draw.lines(screen, axis_color, False, center_to_topleft(x_axis), axis_lw)\n",
    "        pygame.draw.lines(screen, axis_color, False, center_to_topleft(y_axis), axis_lw)"
   ]
  },
  {
   "cell_type": "code",
   "execution_count": 9,
   "metadata": {},
   "outputs": [],
   "source": [
    "class Vector:\n",
    "\n",
    "    def __init__(self, v, color=RED):\n",
    "        self.v = v\n",
    "        self.v_transformed = v\n",
    "        self.color = color\n",
    "    \n",
    "    def draw(self, screen, transformed=False):\n",
    "        v = self.v_transformed.copy() if transformed else self.v.copy()\n",
    "        draw_vec(screen, v, self.color)\n",
    "    \n",
    "    def transform(self, m):\n",
    "        self.v_transformed = transform_vec(self.v, m)"
   ]
  },
  {
   "cell_type": "code",
   "execution_count": 10,
   "metadata": {},
   "outputs": [],
   "source": [
    "grid = Grid(-10, 10, 1)\n",
    "grid_base = Grid(-10, 10, 1)"
   ]
  },
  {
   "cell_type": "code",
   "execution_count": 11,
   "metadata": {},
   "outputs": [],
   "source": [
    "m = np.array(((1, 1), (-1, 1)))"
   ]
  },
  {
   "cell_type": "code",
   "execution_count": 12,
   "metadata": {},
   "outputs": [],
   "source": [
    "identity_m = np.array(((1, 0), (0, 1)))"
   ]
  },
  {
   "cell_type": "code",
   "execution_count": 13,
   "metadata": {},
   "outputs": [],
   "source": [
    "shear = np.array(((1, 1), (0, 1)))\n",
    "rotate_45 = np.array(((0, 1), (-1, 0)))"
   ]
  },
  {
   "cell_type": "code",
   "execution_count": 14,
   "metadata": {},
   "outputs": [],
   "source": [
    "i_hat = np.array((1, 0))\n",
    "j_hat = np.array((0, 1))"
   ]
  },
  {
   "cell_type": "code",
   "execution_count": 15,
   "metadata": {},
   "outputs": [
    {
     "data": {
      "text/plain": [
       "array([[[ 1.        ,  0.        ],\n",
       "        [ 0.        ,  1.        ]],\n",
       "\n",
       "       [[ 0.88888889,  0.11111111],\n",
       "        [-0.11111111,  0.88888889]],\n",
       "\n",
       "       [[ 0.77777778,  0.22222222],\n",
       "        [-0.22222222,  0.77777778]],\n",
       "\n",
       "       [[ 0.66666667,  0.33333333],\n",
       "        [-0.33333333,  0.66666667]],\n",
       "\n",
       "       [[ 0.55555556,  0.44444444],\n",
       "        [-0.44444444,  0.55555556]],\n",
       "\n",
       "       [[ 0.44444444,  0.55555556],\n",
       "        [-0.55555556,  0.44444444]],\n",
       "\n",
       "       [[ 0.33333333,  0.66666667],\n",
       "        [-0.66666667,  0.33333333]],\n",
       "\n",
       "       [[ 0.22222222,  0.77777778],\n",
       "        [-0.77777778,  0.22222222]],\n",
       "\n",
       "       [[ 0.11111111,  0.88888889],\n",
       "        [-0.88888889,  0.11111111]],\n",
       "\n",
       "       [[ 0.        ,  1.        ],\n",
       "        [-1.        ,  0.        ]]])"
      ]
     },
     "execution_count": 15,
     "metadata": {},
     "output_type": "execute_result"
    }
   ],
   "source": [
    "transformations = smooth_transformation(rotate_45, steps=10, identity_m=identity_m)\n",
    "transformations"
   ]
  },
  {
   "cell_type": "code",
   "execution_count": null,
   "metadata": {},
   "outputs": [],
   "source": [
    "grid = Grid(-10, 10, 1)\n",
    "grid_base = Grid(-10, 10, 1)\n",
    "\n",
    "i_hat = Vector(np.array((1, 0)), color=GREEN)\n",
    "j_hat = Vector(np.array((0, 1)), color=RED)\n",
    "\n",
    "v = Vector(np.array((1, 1)), color=ORANGE)\n",
    "\n",
    "m = np.array(((1, 1), (-2, 1)))\n",
    "\n",
    "pygame.init()\n",
    "\n",
    "# Set up the drawing window\n",
    "screen = pygame.display.set_mode([WIDTH, HEIGHT])\n",
    "\n",
    "# Run until the user asks to quit\n",
    "running = True\n",
    "first = True\n",
    "while running:\n",
    "\n",
    "    # Did the user click the window close button?\n",
    "    for event in pygame.event.get():\n",
    "        if event.type == pygame.QUIT:\n",
    "            running = False    \n",
    "\n",
    "    screen.fill(BLACK)\n",
    "    grid_base.draw(screen, grid_color=GREY, axis_color=GREY, axis_lw=1, grid_lw=1)\n",
    "    grid.draw(screen, grid_lw=2, transformed=True)\n",
    "    i_hat.draw(screen, transformed=True)\n",
    "    j_hat.draw(screen, transformed=True)\n",
    "    v.draw(screen, transformed=True)\n",
    "    transformations = smooth_transformation(m, steps=200)\n",
    "    if first:\n",
    "        for t in transformations:\n",
    "            # Refresh the screen\n",
    "            screen.fill(BLACK)\n",
    "            grid_base.draw(screen, grid_color=GREY, axis_color=GREY, axis_lw=1, grid_lw=1)\n",
    "\n",
    "            # transform all objects\n",
    "            grid.transform(t)\n",
    "            i_hat.transform(t)\n",
    "            j_hat.transform(t)\n",
    "            v.transform(t)\n",
    "\n",
    "            # Draw all objects\n",
    "            grid.draw(screen, grid_lw=2, transformed=True)\n",
    "            i_hat.draw(screen, transformed=True)\n",
    "            j_hat.draw(screen, transformed=True)\n",
    "            v.draw(screen, transformed=True)\n",
    "\n",
    "            # Flip\n",
    "            pygame.display.flip()\n",
    "            pygame.time.wait(10)\n",
    "        first = False\n",
    "\n",
    "    # for i, j in zip(smooth_transformation(i_hat, rotate_45), smooth_transformation(j_hat, rotate_45)):\n",
    "    #     screen.fill(BLACK)\n",
    "    #     grid_base.draw(screen, grid_color=GREY, axis_color=GREY, axis_lw=1, grid_lw=1)\n",
    "    #     grid.draw(screen, grid_lw=2)\n",
    "\n",
    "    #     draw_vec(screen, i, color=GREEN)\n",
    "    #     draw_vec(screen, j, color=RED)\n",
    "    #     # pygame.draw.circle(screen, RED, center_to_topleft(m), 5)\n",
    "    #     pygame.display.flip()\n",
    "    #     pygame.time.wait(10)\n",
    "    # if first:\n",
    "    #     grid.transform(m)\n",
    "    #     first = False\n",
    "    \n",
    "    pygame.display.flip() \n"
   ]
  },
  {
   "cell_type": "code",
   "execution_count": null,
   "metadata": {},
   "outputs": [],
   "source": []
  },
  {
   "cell_type": "code",
   "execution_count": null,
   "metadata": {},
   "outputs": [],
   "source": [
    "grid = Grid(-10, 10, 1)"
   ]
  },
  {
   "cell_type": "code",
   "execution_count": null,
   "metadata": {},
   "outputs": [],
   "source": [
    "def draw_xy_axis(surface):\n",
    "    lw = 4\n",
    "    pygame.draw.line(surface, WHITE, (0, HEIGHT/2), (WIDTH, HEIGHT/2), lw)\n",
    "    pygame.draw.line(surface, WHITE, (WIDTH/2, 0), (WIDTH/2, HEIGHT), lw)\n",
    "\n",
    "def draw_grid(surface):\n",
    "    lw = 1\n",
    "    for i in range(-10, 11):\n",
    "        pygame.draw.line(surface, WHITE, topleft2centerorigin((i, -10)), topleft2centerorigin((i, 10)), lw)\n",
    "        pygame.draw.line(surface, WHITE, topleft2centerorigin((-10, i)), topleft2centerorigin((10, i)), lw)"
   ]
  },
  {
   "cell_type": "code",
   "execution_count": null,
   "metadata": {},
   "outputs": [],
   "source": [
    "def connect_points(surface, points, color = WHITE, lw = 1):\n",
    "    for i in range(len(points) - 1):\n",
    "        pygame.draw.line(surface, color, topleft2centerorigin(points[i]), topleft2centerorigin(points[i + 1]), lw)"
   ]
  },
  {
   "cell_type": "code",
   "execution_count": null,
   "metadata": {},
   "outputs": [],
   "source": [
    "def get_grid(n = 10):\n",
    "    grid = []\n",
    "    for i in range(-n, n+1):\n",
    "        start = (i, -n)\n",
    "        for j in range(-n, n+1):\n",
    "            end = (i, j)\n",
    "            grid.append((start, end))\n",
    "            grid.append((i, j))\n",
    "    return grid\n",
    "\n",
    "\n",
    "    "
   ]
  },
  {
   "cell_type": "code",
   "execution_count": null,
   "metadata": {},
   "outputs": [],
   "source": [
    "def draw_vec(surface, v, color = RED, origin = (0,0)):\n",
    "    lw = 4\n",
    "    origin = topleft2centerorigin(origin)\n",
    "    v = topleft2centerorigin(v)\n",
    "    pygame.draw.line(surface, color, origin, v, lw)\n",
    "    pygame.draw.circle(surface, color, v, lw*2)\n"
   ]
  },
  {
   "cell_type": "code",
   "execution_count": null,
   "metadata": {},
   "outputs": [],
   "source": [
    "def transform_vec(vec, matrix):\n",
    "    return np.dot(matrix, vec)"
   ]
  },
  {
   "cell_type": "code",
   "execution_count": null,
   "metadata": {},
   "outputs": [],
   "source": [
    "i_hat = np.array((1, 0))\n",
    "j_hat = np.array((0, 1))"
   ]
  },
  {
   "cell_type": "code",
   "execution_count": null,
   "metadata": {},
   "outputs": [],
   "source": [
    "rotate_45 = np.array(((0, -1), (1, 0)))\n",
    "sheer = np.array(((1, 1), (0, 1)))"
   ]
  },
  {
   "cell_type": "code",
   "execution_count": null,
   "metadata": {},
   "outputs": [],
   "source": [
    "def find_transition_points(start_v = (1, 0), end_v = (0, 1), steps = 100):\n",
    "    \"\"\"Find transition points between two vectors, such that the length of the vector is the same at each point\"\"\"\n",
    "    v_len = np.sqrt(start_v[0]**2 + start_v[1]**2)\n",
    "    # find points between start_v and end_v where the length of the vector is the same\n",
    "    points_x = np.arange(start_v[0], end_v[0], (end_v[0] - start_v[0]) / steps)\n",
    "    points_y = []\n",
    "    for x in points_x:\n",
    "        points_y.append(np.sqrt(v_len**2 - x**2))\n",
    "    points = list(zip(points_x, points_y))\n",
    "    \n",
    "    return points"
   ]
  },
  {
   "cell_type": "code",
   "execution_count": null,
   "metadata": {},
   "outputs": [],
   "source": [
    "transform_vec((300, 10000), rotate_45), transform_vec((300, -1000), rotate_45)"
   ]
  },
  {
   "cell_type": "code",
   "execution_count": null,
   "metadata": {},
   "outputs": [],
   "source": [
    "def get_grid_matrix():\n",
    "    return np.array(((1, 0), (0, 1)))"
   ]
  },
  {
   "cell_type": "code",
   "execution_count": null,
   "metadata": {},
   "outputs": [],
   "source": [
    "points = np.linspace((0, 0), (0, 5), 5)\n",
    "points"
   ]
  },
  {
   "cell_type": "code",
   "execution_count": null,
   "metadata": {},
   "outputs": [],
   "source": []
  },
  {
   "cell_type": "code",
   "execution_count": null,
   "metadata": {},
   "outputs": [],
   "source": [
    "pygame.init()\n",
    "\n",
    "# Set up the drawing window\n",
    "screen = pygame.display.set_mode([WIDTH, HEIGHT])\n",
    "\n",
    "# Run until the user asks to quit\n",
    "running = True\n",
    "while running:\n",
    "\n",
    "    # Did the user click the window close button?\n",
    "    for event in pygame.event.get():\n",
    "        if event.type == pygame.QUIT:\n",
    "            running = False\n",
    "\n",
    "    # Fill the background with black\n",
    "    screen.fill(BLACK)\n",
    "\n",
    "    # Draw line\n",
    "    draw_xy_axis(screen)\n",
    "    draw_grid(screen)\n",
    "    draw_vec(screen, i_hat, RED)\n",
    "    draw_vec(screen, j_hat, GREEN)\n",
    "    pygame.draw.line(screen, YELLOW, (300, HEIGHT), (300, 0), 4)\n",
    "    pygame.draw.line(screen, YELLOW, transform_vec((300, 10000), sheer), transform_vec((300, -1000), sheer), 4)    # transition_ihat = find_transition_points(i_hat, transform_vec(i_hat, rotate_45))\n",
    "    # transiation_jhat = find_transition_points(j_hat, transform_vec(j_hat, rotate_45))\n",
    "    # for i, j in zip(transition_ihat, transiation_jhat):\n",
    "    #     draw_vec(screen, i, RED)\n",
    "    #     draw_vec(screen, j, GREEN)\n",
    "    #     pygame.display.flip()\n",
    "    #     pygame.time.delay(20)\n",
    "    #     # refresh the screen\n",
    "    #     screen.fill(BLACK)\n",
    "    #     draw_xy_axis(screen)\n",
    "    #     draw_grid(screen)\n",
    "    \n",
    "    # Flip the display\n",
    "    pygame.display.flip()"
   ]
  }
 ],
 "metadata": {
  "kernelspec": {
   "display_name": "lin-alg-vis",
   "language": "python",
   "name": "python3"
  },
  "language_info": {
   "codemirror_mode": {
    "name": "ipython",
    "version": 3
   },
   "file_extension": ".py",
   "mimetype": "text/x-python",
   "name": "python",
   "nbconvert_exporter": "python",
   "pygments_lexer": "ipython3",
   "version": "3.12.9"
  }
 },
 "nbformat": 4,
 "nbformat_minor": 2
}
