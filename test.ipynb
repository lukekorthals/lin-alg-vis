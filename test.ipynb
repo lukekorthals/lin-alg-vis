{
 "cells": [
  {
   "cell_type": "code",
   "execution_count": 1,
   "metadata": {},
   "outputs": [],
   "source": [
    "from utils.transformations import center_to_topleft, apply_transformation, get_matrices_for_smooth_transformation\n",
    "import numpy as np"
   ]
  },
  {
   "cell_type": "code",
   "execution_count": null,
   "metadata": {},
   "outputs": [
    {
     "name": "stdout",
     "output_type": "stream",
     "text": [
      "[[400. 320.]\n",
      " [480. 320.]\n",
      " [480. 400.]\n",
      " [400. 400.]]\n",
      "[[0 1]\n",
      " [2 1]\n",
      " [2 0]\n",
      " [0 0]]\n"
     ]
    },
    {
     "data": {
      "text/plain": [
       "array([[[1.  , 0.  ],\n",
       "        [0.  , 1.  ]],\n",
       "\n",
       "       [[1.25, 0.  ],\n",
       "        [0.  , 1.  ]],\n",
       "\n",
       "       [[1.5 , 0.  ],\n",
       "        [0.  , 1.  ]],\n",
       "\n",
       "       [[1.75, 0.  ],\n",
       "        [0.  , 1.  ]],\n",
       "\n",
       "       [[2.  , 0.  ],\n",
       "        [0.  , 1.  ]]])"
      ]
     },
     "execution_count": 2,
     "metadata": {},
     "output_type": "execute_result"
    }
   ],
   "source": [
    "v = np.array(((0, 1), (1, 1), (1, 0), (0, 0)))\n",
    "m = np.array(((2, 0), (0, 1)))\n"
   ]
  },
  {
   "cell_type": "code",
   "execution_count": 3,
   "metadata": {},
   "outputs": [],
   "source": [
    "m = np.array([[1, 1], [0, 1]])  # Shear transformation matrix\n",
    "steps = 5\n",
    "smooth_matrices = get_matrices_for_smooth_transformation(m, steps)"
   ]
  },
  {
   "cell_type": "code",
   "execution_count": 3,
   "metadata": {},
   "outputs": [
    {
     "name": "stdout",
     "output_type": "stream",
     "text": [
      "[2 2]\n",
      "[1. 1.]\n",
      "[1.25 1.25]\n",
      "[1.5 1.5]\n",
      "[1.75 1.75]\n",
      "[2. 2.]\n"
     ]
    }
   ],
   "source": [
    "k = ((1, 1))\n",
    "m = np.array(((0, 2), (2, 0)))\n",
    "smooth_matrices = get_matrices_for_smooth_transformation(m, 5)\n",
    "print(apply_transformation(k, m))\n",
    "k_temp = k\n",
    "for M in smooth_matrices:\n",
    "    print(apply_transformation(k, M))\n"
   ]
  },
  {
   "cell_type": "code",
   "execution_count": null,
   "metadata": {},
   "outputs": [],
   "source": [
    "def smooth_transformation(m, steps=100, identity_m = np.array(((1, 0), (0, 1)))):\n",
    "    m = np.array(m)\n",
    "    transformations = np.linspace(identity_m, m, steps)\n",
    "    return transformations"
   ]
  },
  {
   "cell_type": "code",
   "execution_count": null,
   "metadata": {},
   "outputs": [],
   "source": [
    "def move_vec(s, e, steps=100, x_than_y=False):\n",
    "    s = np.array(s)\n",
    "    e = np.array(e)\n",
    "    movement = np.linspace(s, e, steps)\n",
    "    if x_than_y:\n",
    "        movement = np.concat((np.linspace(s, np.array((e[0], s[1])), int(steps/2)), \n",
    "                              np.linspace(np.array((e[0], s[1])), e, int(steps/2))))\n",
    "    return movement"
   ]
  },
  {
   "cell_type": "code",
   "execution_count": null,
   "metadata": {},
   "outputs": [],
   "source": [
    "def draw_vec(screen, v, color=BLACK):\n",
    "    pygame.draw.line(screen, color, center_to_topleft((0, 0)), center_to_topleft(v), 5)"
   ]
  },
  {
   "cell_type": "code",
   "execution_count": null,
   "metadata": {},
   "outputs": [],
   "source": []
  },
  {
   "cell_type": "code",
   "execution_count": null,
   "metadata": {},
   "outputs": [],
   "source": [
    "class Grid():\n",
    "    def __init__(self, low=-10, high=10, step=1):\n",
    "        self.generate(low, high, step)\n",
    "    \n",
    "    def generate(self, low, high, step):\n",
    "        n = abs(int((low - high) / step)) + 1\n",
    "        points = np.array(np.meshgrid(np.linspace(low, high, n), np.linspace(low, high, n)))\n",
    "        x_axis = points.T[n//2]\n",
    "        y_axis = points[:, n//2].T\n",
    "        self.x_axis = x_axis\n",
    "        self.y_axis = y_axis\n",
    "        self.points = points\n",
    "        self.points_transformed = points\n",
    "        self.x_axis_transformed = x_axis\n",
    "        self.y_axis_transformed = y_axis\n",
    "    \n",
    "    def transform(self, m):\n",
    "        self.points_transformed = transform_vec(self.points.T.reshape(-1, 2), m).T.reshape(self.points.shape)\n",
    "        self.x_axis_transformed = transform_vec(self.x_axis, m)\n",
    "        self.y_axis_transformed = transform_vec(self.y_axis, m)\n",
    "    \n",
    "    def smooth_transformation(self, m, steps=100, identity_m = np.array(((1, 0), (0, 1)))):\n",
    "        transformations = np.linspace(identity_m, m, steps)\n",
    "        for t in transformations:\n",
    "            self.transform(t)\n",
    "            yield True\n",
    "\n",
    "        \n",
    "    \n",
    "    def draw(self, screen, axis_color=BLUE, grid_color=WHITE, transformed = False, axis_lw=4, grid_lw=1):\n",
    "        points = self.points_transformed.copy() if transformed else self.points.copy()\n",
    "        x_axis = self.x_axis_transformed.copy() if transformed else self.x_axis.copy()\n",
    "        y_axis = self.y_axis_transformed.copy() if transformed else self.y_axis.copy()\n",
    "        for i in range(points.shape[1]):\n",
    "            row = points.T[i]\n",
    "            col = points[:, i].T\n",
    "            if np.all(row == self.x_axis) or np.all(col == self.y_axis):\n",
    "                continue\n",
    "            pygame.draw.lines(screen, grid_color, False, center_to_topleft(row), grid_lw)\n",
    "            pygame.draw.lines(screen, grid_color, False, center_to_topleft(col), grid_lw)\n",
    "\n",
    "        # plot the origin axes\n",
    "        pygame.draw.lines(screen, axis_color, False, center_to_topleft(x_axis), axis_lw)\n",
    "        pygame.draw.lines(screen, axis_color, False, center_to_topleft(y_axis), axis_lw)"
   ]
  },
  {
   "cell_type": "code",
   "execution_count": null,
   "metadata": {},
   "outputs": [
    {
     "data": {
      "text/plain": [
       "array([[-1.42383345e+00,  2.67687901e+00],\n",
       "       [-7.12655754e-01,  2.10258790e-01],\n",
       "       [-6.78605762e-01,  5.64633650e-01],\n",
       "       [ 1.07302764e+00, -1.62794188e+00],\n",
       "       [ 3.88282328e-01,  9.14157744e-01],\n",
       "       [ 6.63771803e-01,  4.77581270e-01],\n",
       "       [ 7.76101356e-01,  3.68565109e-01],\n",
       "       [-3.94429887e-01, -6.70001777e-02],\n",
       "       [ 1.83974861e-01, -1.77261951e-02],\n",
       "       [ 8.88510741e-01, -1.27298362e+00],\n",
       "       [ 7.21698361e-01,  1.42750753e+00],\n",
       "       [-1.25925378e+00, -2.93538108e-01],\n",
       "       [-9.80864385e-01, -6.78834775e-01],\n",
       "       [ 7.05203910e-01,  2.94348303e-01],\n",
       "       [-2.52152766e-01, -8.58612393e-01],\n",
       "       [-6.64534386e-01,  1.72631457e+00],\n",
       "       [ 2.86645994e-02, -1.18808399e+00],\n",
       "       [-7.78423444e-01,  1.43494495e+00],\n",
       "       [-3.23533215e-01,  1.53410040e-01],\n",
       "       [-9.99987347e-01, -1.18502616e+00],\n",
       "       [ 1.20232486e-01,  2.23911841e-01],\n",
       "       [ 1.75225051e-01,  1.38012007e+00],\n",
       "       [ 1.12137644e+00,  1.83815867e-01],\n",
       "       [-3.64049974e-01,  3.68666954e-01],\n",
       "       [-4.48275763e-01,  1.32714239e+00],\n",
       "       [-8.44184975e-01,  6.18954261e-02],\n",
       "       [ 8.48126587e-01, -2.25828055e-02],\n",
       "       [ 8.06692057e-01, -2.80172903e-01],\n",
       "       [ 1.32031414e-01, -9.26890925e-01],\n",
       "       [ 1.90428229e+00,  2.90311477e-01],\n",
       "       [ 1.66735323e-01,  8.83322903e-01],\n",
       "       [ 3.03755155e-01,  4.57363527e-02],\n",
       "       [-4.93503141e-01, -4.71588408e-01],\n",
       "       [ 3.78636033e-01, -2.29891277e+00],\n",
       "       [-9.10578682e-01,  1.34500658e+00],\n",
       "       [ 1.70693643e+00,  5.31798815e-02],\n",
       "       [-5.13472783e-01,  2.29235383e-01],\n",
       "       [-8.22548731e-01, -1.15512902e+00],\n",
       "       [-6.76782513e-01, -9.85227251e-03],\n",
       "       [ 9.20305992e-02,  1.06208926e+00],\n",
       "       [ 1.64706824e-01, -1.71342595e-01],\n",
       "       [-4.67222823e-01, -1.00504654e+00],\n",
       "       [-2.45631827e-01, -8.58175064e-01],\n",
       "       [-1.08757400e+00, -4.28445975e-01],\n",
       "       [ 4.88012634e-01, -5.69761014e-01],\n",
       "       [-1.31277506e+00,  1.26484838e+00],\n",
       "       [ 1.26930407e+00,  5.22725151e-01],\n",
       "       [-1.09515645e+00,  8.01222984e-01],\n",
       "       [-9.89539827e-01,  2.13732068e-01],\n",
       "       [-1.08733200e+00,  8.55264150e-01],\n",
       "       [ 2.41662728e-03,  1.63437866e-01],\n",
       "       [ 1.07790969e+00,  7.19954778e-01],\n",
       "       [ 1.14750645e+00,  2.49058324e-01],\n",
       "       [-7.89194556e-01, -3.37248926e-01],\n",
       "       [ 1.10316868e+00, -6.43154175e-01],\n",
       "       [-4.00588838e-01,  2.32545946e-02],\n",
       "       [ 7.00424517e-01,  3.43459115e-01],\n",
       "       [-2.67524756e-01, -1.42194266e+00],\n",
       "       [-8.94607041e-02,  2.32592672e-01],\n",
       "       [-8.51746808e-01,  7.98489590e-01],\n",
       "       [ 8.89396433e-01, -1.04778139e+00],\n",
       "       [-5.87241648e-01, -6.48384178e-01],\n",
       "       [ 1.37562261e+00,  1.31321928e-01],\n",
       "       [ 2.25767995e+00,  2.51546737e-01],\n",
       "       [ 1.81070990e-01,  1.74109792e-01],\n",
       "       [ 1.06939174e+00,  8.00279179e-02],\n",
       "       [ 1.13304993e+00, -9.12662290e-01],\n",
       "       [ 1.59941591e+00,  1.84569820e+00],\n",
       "       [-3.36046212e-01, -1.33302550e-01],\n",
       "       [ 1.20050351e+00,  1.09955911e+00],\n",
       "       [-1.36021632e+00, -1.54654538e-01],\n",
       "       [ 6.41154680e-01,  2.34617986e-01],\n",
       "       [-8.44765046e-01, -4.38255308e-02],\n",
       "       [ 6.02508613e-01,  5.53693786e-01],\n",
       "       [ 6.01204858e-01,  2.57188491e+00],\n",
       "       [ 5.79800587e-01,  2.73675415e-01],\n",
       "       [ 8.13289064e-02,  7.93360559e-01],\n",
       "       [-7.90160842e-01, -2.37006661e+00],\n",
       "       [ 2.39416236e-01,  1.03163173e+00],\n",
       "       [-4.58802162e-01, -9.62388119e-02],\n",
       "       [ 2.15766652e-01,  1.24147821e+00],\n",
       "       [ 2.39909004e-01, -2.32986340e+00],\n",
       "       [ 2.54888741e-01, -9.55529815e-01],\n",
       "       [ 9.59691154e-01,  2.54377112e-01],\n",
       "       [ 1.90180256e-02,  1.31894869e+00],\n",
       "       [-3.81965133e-01,  1.17715110e+00],\n",
       "       [-1.94473656e+00,  2.15423248e+00],\n",
       "       [-2.19276231e-01, -4.86181198e-01],\n",
       "       [ 3.96928184e-01, -2.06758874e-01],\n",
       "       [ 2.80721681e-01,  2.42403992e+00],\n",
       "       [-6.50242779e-01,  1.31827846e-02],\n",
       "       [ 7.88603731e-01, -3.03306128e-01],\n",
       "       [-5.24884935e-02, -1.53916279e+00],\n",
       "       [-1.10390514e+00,  9.67466877e-01],\n",
       "       [-2.59111376e-01,  1.07697483e+00],\n",
       "       [ 4.01018414e-01, -7.42703349e-01],\n",
       "       [-1.04123114e+00, -7.94636276e-01],\n",
       "       [ 2.61107409e-01, -7.41149067e-01],\n",
       "       [ 3.09830642e-01,  6.14744243e-01],\n",
       "       [ 5.93711618e-01, -1.21762531e+00]])"
      ]
     },
     "execution_count": 10,
     "metadata": {},
     "output_type": "execute_result"
    }
   ],
   "source": [
    "x"
   ]
  },
  {
   "cell_type": "code",
   "execution_count": null,
   "metadata": {},
   "outputs": [],
   "source": [
    "class Vector:\n",
    "\n",
    "    def __init__(self, v, color=RED):\n",
    "        self.v = v\n",
    "        self.v_transformed = v\n",
    "        self.color = color\n",
    "    \n",
    "    def draw(self, screen, transformed=False):\n",
    "        v = self.v_transformed.copy() if transformed else self.v.copy()\n",
    "        draw_vec(screen, v, self.color)\n",
    "    \n",
    "    def transform(self, m):\n",
    "        self.v_transformed = transform_vec(self.v, m)"
   ]
  },
  {
   "cell_type": "code",
   "execution_count": null,
   "metadata": {},
   "outputs": [],
   "source": [
    "grid = Grid(-10, 10, 1)\n",
    "grid_base = Grid(-10, 10, 1)"
   ]
  },
  {
   "cell_type": "code",
   "execution_count": null,
   "metadata": {},
   "outputs": [],
   "source": [
    "m = np.array(((1, 1), (-1, 1)))"
   ]
  },
  {
   "cell_type": "code",
   "execution_count": null,
   "metadata": {},
   "outputs": [],
   "source": [
    "identity_m = np.array(((1, 0), (0, 1)))"
   ]
  },
  {
   "cell_type": "code",
   "execution_count": null,
   "metadata": {},
   "outputs": [],
   "source": [
    "shear = np.array(((1, 1), (0, 1)))\n",
    "rotate_45 = np.array(((0, 1), (-1, 0)))"
   ]
  },
  {
   "cell_type": "code",
   "execution_count": null,
   "metadata": {},
   "outputs": [],
   "source": [
    "i_hat = np.array((1, 0))\n",
    "j_hat = np.array((0, 1))"
   ]
  },
  {
   "cell_type": "code",
   "execution_count": null,
   "metadata": {},
   "outputs": [],
   "source": [
    "transformations = smooth_transformation(rotate_45, steps=10, identity_m=identity_m)\n",
    "transformations"
   ]
  },
  {
   "cell_type": "code",
   "execution_count": null,
   "metadata": {},
   "outputs": [],
   "source": [
    "grid = Grid(-10, 10, 1)\n",
    "grid_base = Grid(-10, 10, 1)\n",
    "\n",
    "i_hat = Vector(np.array((1, 0)), color=GREEN)\n",
    "j_hat = Vector(np.array((0, 1)), color=RED)\n",
    "\n",
    "v = Vector(np.array((1, 1)), color=ORANGE)\n",
    "\n",
    "m = np.array(((1, 1), (-2, 1)))\n",
    "\n",
    "pygame.init()\n",
    "\n",
    "# Set up the drawing window\n",
    "screen = pygame.display.set_mode([WIDTH, HEIGHT])\n",
    "\n",
    "# Run until the user asks to quit\n",
    "running = True\n",
    "first = True\n",
    "while running:\n",
    "\n",
    "    # Did the user click the window close button?\n",
    "    for event in pygame.event.get():\n",
    "        if event.type == pygame.QUIT:\n",
    "            running = False    \n",
    "\n",
    "    screen.fill(BLACK)\n",
    "    grid_base.draw(screen, grid_color=GREY, axis_color=GREY, axis_lw=1, grid_lw=1)\n",
    "    grid.draw(screen, grid_lw=2, transformed=True)\n",
    "    i_hat.draw(screen, transformed=True)\n",
    "    j_hat.draw(screen, transformed=True)\n",
    "    v.draw(screen, transformed=True)\n",
    "    transformations = smooth_transformation(m, steps=200)\n",
    "    if first:\n",
    "        for t in transformations:\n",
    "            # Refresh the screen\n",
    "            screen.fill(BLACK)\n",
    "            grid_base.draw(screen, grid_color=GREY, axis_color=GREY, axis_lw=1, grid_lw=1)\n",
    "\n",
    "            # transform all objects\n",
    "            grid.transform(t)\n",
    "            i_hat.transform(t)\n",
    "            j_hat.transform(t)\n",
    "            v.transform(t)\n",
    "\n",
    "            # Draw all objects\n",
    "            grid.draw(screen, grid_lw=2, transformed=True)\n",
    "            i_hat.draw(screen, transformed=True)\n",
    "            j_hat.draw(screen, transformed=True)\n",
    "            v.draw(screen, transformed=True)\n",
    "\n",
    "            # Flip\n",
    "            pygame.display.flip()\n",
    "            pygame.time.wait(10)\n",
    "        first = False\n",
    "\n",
    "    # for i, j in zip(smooth_transformation(i_hat, rotate_45), smooth_transformation(j_hat, rotate_45)):\n",
    "    #     screen.fill(BLACK)\n",
    "    #     grid_base.draw(screen, grid_color=GREY, axis_color=GREY, axis_lw=1, grid_lw=1)\n",
    "    #     grid.draw(screen, grid_lw=2)\n",
    "\n",
    "    #     draw_vec(screen, i, color=GREEN)\n",
    "    #     draw_vec(screen, j, color=RED)\n",
    "    #     # pygame.draw.circle(screen, RED, center_to_topleft(m), 5)\n",
    "    #     pygame.display.flip()\n",
    "    #     pygame.time.wait(10)\n",
    "    # if first:\n",
    "    #     grid.transform(m)\n",
    "    #     first = False\n",
    "    \n",
    "    pygame.display.flip() \n"
   ]
  },
  {
   "cell_type": "code",
   "execution_count": null,
   "metadata": {},
   "outputs": [],
   "source": []
  },
  {
   "cell_type": "code",
   "execution_count": null,
   "metadata": {},
   "outputs": [],
   "source": [
    "grid = Grid(-10, 10, 1)"
   ]
  },
  {
   "cell_type": "code",
   "execution_count": null,
   "metadata": {},
   "outputs": [],
   "source": [
    "def draw_xy_axis(surface):\n",
    "    lw = 4\n",
    "    pygame.draw.line(surface, WHITE, (0, HEIGHT/2), (WIDTH, HEIGHT/2), lw)\n",
    "    pygame.draw.line(surface, WHITE, (WIDTH/2, 0), (WIDTH/2, HEIGHT), lw)\n",
    "\n",
    "def draw_grid(surface):\n",
    "    lw = 1\n",
    "    for i in range(-10, 11):\n",
    "        pygame.draw.line(surface, WHITE, topleft2centerorigin((i, -10)), topleft2centerorigin((i, 10)), lw)\n",
    "        pygame.draw.line(surface, WHITE, topleft2centerorigin((-10, i)), topleft2centerorigin((10, i)), lw)"
   ]
  },
  {
   "cell_type": "code",
   "execution_count": null,
   "metadata": {},
   "outputs": [],
   "source": [
    "def connect_points(surface, points, color = WHITE, lw = 1):\n",
    "    for i in range(len(points) - 1):\n",
    "        pygame.draw.line(surface, color, topleft2centerorigin(points[i]), topleft2centerorigin(points[i + 1]), lw)"
   ]
  },
  {
   "cell_type": "code",
   "execution_count": null,
   "metadata": {},
   "outputs": [],
   "source": [
    "def get_grid(n = 10):\n",
    "    grid = []\n",
    "    for i in range(-n, n+1):\n",
    "        start = (i, -n)\n",
    "        for j in range(-n, n+1):\n",
    "            end = (i, j)\n",
    "            grid.append((start, end))\n",
    "            grid.append((i, j))\n",
    "    return grid\n",
    "\n",
    "\n",
    "    "
   ]
  },
  {
   "cell_type": "code",
   "execution_count": null,
   "metadata": {},
   "outputs": [],
   "source": [
    "def draw_vec(surface, v, color = RED, origin = (0,0)):\n",
    "    lw = 4\n",
    "    origin = topleft2centerorigin(origin)\n",
    "    v = topleft2centerorigin(v)\n",
    "    pygame.draw.line(surface, color, origin, v, lw)\n",
    "    pygame.draw.circle(surface, color, v, lw*2)\n"
   ]
  },
  {
   "cell_type": "code",
   "execution_count": null,
   "metadata": {},
   "outputs": [],
   "source": [
    "def transform_vec(vec, matrix):\n",
    "    return np.dot(matrix, vec)"
   ]
  },
  {
   "cell_type": "code",
   "execution_count": null,
   "metadata": {},
   "outputs": [],
   "source": [
    "i_hat = np.array((1, 0))\n",
    "j_hat = np.array((0, 1))"
   ]
  },
  {
   "cell_type": "code",
   "execution_count": null,
   "metadata": {},
   "outputs": [],
   "source": [
    "rotate_45 = np.array(((0, -1), (1, 0)))\n",
    "sheer = np.array(((1, 1), (0, 1)))"
   ]
  },
  {
   "cell_type": "code",
   "execution_count": null,
   "metadata": {},
   "outputs": [],
   "source": [
    "def find_transition_points(start_v = (1, 0), end_v = (0, 1), steps = 100):\n",
    "    \"\"\"Find transition points between two vectors, such that the length of the vector is the same at each point\"\"\"\n",
    "    v_len = np.sqrt(start_v[0]**2 + start_v[1]**2)\n",
    "    # find points between start_v and end_v where the length of the vector is the same\n",
    "    points_x = np.arange(start_v[0], end_v[0], (end_v[0] - start_v[0]) / steps)\n",
    "    points_y = []\n",
    "    for x in points_x:\n",
    "        points_y.append(np.sqrt(v_len**2 - x**2))\n",
    "    points = list(zip(points_x, points_y))\n",
    "    \n",
    "    return points"
   ]
  },
  {
   "cell_type": "code",
   "execution_count": null,
   "metadata": {},
   "outputs": [],
   "source": [
    "transform_vec((300, 10000), rotate_45), transform_vec((300, -1000), rotate_45)"
   ]
  },
  {
   "cell_type": "code",
   "execution_count": null,
   "metadata": {},
   "outputs": [],
   "source": [
    "def get_grid_matrix():\n",
    "    return np.array(((1, 0), (0, 1)))"
   ]
  },
  {
   "cell_type": "code",
   "execution_count": null,
   "metadata": {},
   "outputs": [],
   "source": [
    "points = np.linspace((0, 0), (0, 5), 5)\n",
    "points"
   ]
  },
  {
   "cell_type": "code",
   "execution_count": null,
   "metadata": {},
   "outputs": [],
   "source": []
  },
  {
   "cell_type": "code",
   "execution_count": null,
   "metadata": {},
   "outputs": [],
   "source": [
    "pygame.init()\n",
    "\n",
    "# Set up the drawing window\n",
    "screen = pygame.display.set_mode([WIDTH, HEIGHT])\n",
    "\n",
    "# Run until the user asks to quit\n",
    "running = True\n",
    "while running:\n",
    "\n",
    "    # Did the user click the window close button?\n",
    "    for event in pygame.event.get():\n",
    "        if event.type == pygame.QUIT:\n",
    "            running = False\n",
    "\n",
    "    # Fill the background with black\n",
    "    screen.fill(BLACK)\n",
    "\n",
    "    # Draw line\n",
    "    draw_xy_axis(screen)\n",
    "    draw_grid(screen)\n",
    "    draw_vec(screen, i_hat, RED)\n",
    "    draw_vec(screen, j_hat, GREEN)\n",
    "    pygame.draw.line(screen, YELLOW, (300, HEIGHT), (300, 0), 4)\n",
    "    pygame.draw.line(screen, YELLOW, transform_vec((300, 10000), sheer), transform_vec((300, -1000), sheer), 4)    # transition_ihat = find_transition_points(i_hat, transform_vec(i_hat, rotate_45))\n",
    "    # transiation_jhat = find_transition_points(j_hat, transform_vec(j_hat, rotate_45))\n",
    "    # for i, j in zip(transition_ihat, transiation_jhat):\n",
    "    #     draw_vec(screen, i, RED)\n",
    "    #     draw_vec(screen, j, GREEN)\n",
    "    #     pygame.display.flip()\n",
    "    #     pygame.time.delay(20)\n",
    "    #     # refresh the screen\n",
    "    #     screen.fill(BLACK)\n",
    "    #     draw_xy_axis(screen)\n",
    "    #     draw_grid(screen)\n",
    "    \n",
    "    # Flip the display\n",
    "    pygame.display.flip()"
   ]
  }
 ],
 "metadata": {
  "kernelspec": {
   "display_name": "lin-alg-vis",
   "language": "python",
   "name": "python3"
  },
  "language_info": {
   "codemirror_mode": {
    "name": "ipython",
    "version": 3
   },
   "file_extension": ".py",
   "mimetype": "text/x-python",
   "name": "python",
   "nbconvert_exporter": "python",
   "pygments_lexer": "ipython3",
   "version": "3.12.9"
  }
 },
 "nbformat": 4,
 "nbformat_minor": 2
}
